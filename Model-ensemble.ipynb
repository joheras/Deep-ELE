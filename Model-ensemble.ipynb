{
 "cells": [
  {
   "cell_type": "code",
   "execution_count": 1,
   "metadata": {},
   "outputs": [
    {
     "name": "stderr",
     "output_type": "stream",
     "text": [
      "/home/jonathan/.virtualenvs/huggingface/lib/python3.6/site-packages/torchaudio/backend/utils.py:54: UserWarning: \"sox\" backend is being deprecated. The default backend will be changed to \"sox_io\" backend in 0.8.0 and \"sox\" backend will be removed in 0.9.0. Please migrate to \"sox_io\" backend. Please refer to https://github.com/pytorch/audio/issues/903 for the detail.\n",
      "  '\"sox\" backend is being deprecated. '\n"
     ]
    }
   ],
   "source": [
    "from fastai.data.all import *\n",
    "from fastai.learner import *\n",
    "from fastai.losses import CrossEntropyLossFlat\n",
    "from fastai.optimizer import Adam, OptimWrapper, params\n",
    "from fastai.metrics import accuracy, F1Score\n",
    "from fastai.torch_core import *\n",
    "from fastai.torch_imports import *\n",
    "from transformers import AutoModelForSequenceClassification\n",
    "import pandas as pd\n",
    "from blurr.text.data.core import *\n",
    "from blurr.text.modeling.core import *\n",
    "from blurr.text.utils import NLP as BLURR # lo importamos así para que sea compatible con el resto\n",
    "from datasets import load_dataset, concatenate_datasets"
   ]
  },
  {
   "cell_type": "code",
   "execution_count": 2,
   "metadata": {},
   "outputs": [],
   "source": [
    "import torch\n",
    "torch.cuda.set_device(2)"
   ]
  },
  {
   "cell_type": "code",
   "execution_count": 3,
   "metadata": {},
   "outputs": [],
   "source": [
    "train_df = pd.read_csv('perplejidad/datasets/train_train_set.csv',delimiter='\\t')"
   ]
  },
  {
   "cell_type": "code",
   "execution_count": 4,
   "metadata": {},
   "outputs": [],
   "source": [
    "train_df['is_valid']=False"
   ]
  },
  {
   "cell_type": "code",
   "execution_count": 5,
   "metadata": {},
   "outputs": [],
   "source": [
    "dl_kwargs = {\"bs\": 64, \"val_bs\": 64}\n",
    "learn_kwargs = {\"metrics\": [accuracy]}"
   ]
  },
  {
   "cell_type": "code",
   "execution_count": 6,
   "metadata": {},
   "outputs": [],
   "source": [
    "test_df = pd.read_csv('perplejidad/datasets/test_set.csv',delimiter='\\t')"
   ]
  },
  {
   "cell_type": "code",
   "execution_count": 7,
   "metadata": {},
   "outputs": [],
   "source": [
    "test_df['is_valid']=True"
   ]
  },
  {
   "cell_type": "code",
   "execution_count": 8,
   "metadata": {},
   "outputs": [],
   "source": [
    "train_test_df = pd.concat([train_df,test_df])"
   ]
  },
  {
   "cell_type": "code",
   "execution_count": 9,
   "metadata": {},
   "outputs": [],
   "source": [
    "train_idxs, test_idxs = L(range(len(train_test_df[train_test_df.is_valid==False]))), L(range(len(train_test_df[train_test_df.is_valid==False]), len(train_test_df)))"
   ]
  },
  {
   "cell_type": "code",
   "execution_count": 10,
   "metadata": {},
   "outputs": [],
   "source": [
    "learnXLMRoberta = BlearnerForSequenceClassification.from_data(\n",
    "    train_test_df,\n",
    "    \"xlm-roberta-base\",\n",
    "    text_attr=\"Sentence\",\n",
    "    label_attr=\"Level\",\n",
    "    dblock_splitter=IndexSplitter(test_idxs),\n",
    "    dl_kwargs=dl_kwargs,\n",
    "    learner_kwargs=learn_kwargs,\n",
    ")"
   ]
  },
  {
   "cell_type": "code",
   "execution_count": 12,
   "metadata": {},
   "outputs": [
    {
     "data": {
      "text/plain": [
       "<blurr.text.modeling.core.BlearnerForSequenceClassification at 0x7f056dfd5e10>"
      ]
     },
     "execution_count": 12,
     "metadata": {},
     "output_type": "execute_result"
    }
   ],
   "source": [
    "learnXLMRoberta.load('xlm-roberta-base')"
   ]
  },
  {
   "cell_type": "code",
   "execution_count": 13,
   "metadata": {},
   "outputs": [],
   "source": [
    "learnBert = BlearnerForSequenceClassification.from_data(\n",
    "    train_test_df,\n",
    "    \"dccuchile/bert-base-spanish-wwm-uncased\",\n",
    "    text_attr=\"Sentence\",\n",
    "    label_attr=\"Level\",\n",
    "    dblock_splitter=IndexSplitter(test_idxs),\n",
    "    dl_kwargs=dl_kwargs,\n",
    "    learner_kwargs=learn_kwargs,\n",
    ")"
   ]
  },
  {
   "cell_type": "code",
   "execution_count": 14,
   "metadata": {},
   "outputs": [
    {
     "data": {
      "text/plain": [
       "<blurr.text.modeling.core.BlearnerForSequenceClassification at 0x7f056ec62470>"
      ]
     },
     "execution_count": 14,
     "metadata": {},
     "output_type": "execute_result"
    }
   ],
   "source": [
    "learnBert.load('bert-new')"
   ]
  },
  {
   "cell_type": "code",
   "execution_count": 15,
   "metadata": {},
   "outputs": [],
   "source": [
    "learnRoberta = BlearnerForSequenceClassification.from_data(\n",
    "    train_test_df,\n",
    "    \"bertin-project/bertin-roberta-base-spanish\",\n",
    "    text_attr=\"Sentence\",\n",
    "    label_attr=\"Level\",\n",
    "    dblock_splitter=IndexSplitter(test_idxs),\n",
    "    dl_kwargs=dl_kwargs,\n",
    "    learner_kwargs=learn_kwargs,\n",
    ")"
   ]
  },
  {
   "cell_type": "code",
   "execution_count": 16,
   "metadata": {},
   "outputs": [
    {
     "data": {
      "text/plain": [
       "<blurr.text.modeling.core.BlearnerForSequenceClassification at 0x7f05610b0320>"
      ]
     },
     "execution_count": 16,
     "metadata": {},
     "output_type": "execute_result"
    }
   ],
   "source": [
    "learnRoberta.load('roberta-new')"
   ]
  },
  {
   "cell_type": "code",
   "execution_count": 17,
   "metadata": {},
   "outputs": [
    {
     "data": {
      "text/html": [],
      "text/plain": [
       "<IPython.core.display.HTML object>"
      ]
     },
     "metadata": {},
     "output_type": "display_data"
    },
    {
     "data": {
      "text/html": [],
      "text/plain": [
       "<IPython.core.display.HTML object>"
      ]
     },
     "metadata": {},
     "output_type": "display_data"
    },
    {
     "data": {
      "text/html": [],
      "text/plain": [
       "<IPython.core.display.HTML object>"
      ]
     },
     "metadata": {},
     "output_type": "display_data"
    }
   ],
   "source": [
    "predsRoberta,gt=learnRoberta.get_preds()\n",
    "predsXLMRoberta,gt=learnXLMRoberta.get_preds()\n",
    "predsBert,gt=learnBert.get_preds()"
   ]
  },
  {
   "cell_type": "code",
   "execution_count": 18,
   "metadata": {},
   "outputs": [
    {
     "data": {
      "text/plain": [
       "tensor([[1.0435e-07, 6.1902e-08, 8.1447e-09, 1.0000e+00, 5.8850e-09],\n",
       "        [2.6299e-10, 5.4022e-06, 9.9999e-01, 6.7078e-10, 2.5297e-07],\n",
       "        [5.4502e-08, 5.0633e-02, 9.4933e-01, 1.4113e-07, 3.5272e-05],\n",
       "        ...,\n",
       "        [1.0000e+00, 6.9441e-09, 4.1595e-09, 5.1404e-11, 5.5410e-11],\n",
       "        [3.9476e-10, 2.7861e-07, 1.0000e+00, 4.2548e-09, 2.7733e-09],\n",
       "        [1.0000e+00, 9.4562e-10, 2.5724e-10, 3.7415e-10, 8.0209e-10]])"
      ]
     },
     "execution_count": 18,
     "metadata": {},
     "output_type": "execute_result"
    }
   ],
   "source": [
    "predsRoberta"
   ]
  },
  {
   "cell_type": "code",
   "execution_count": 20,
   "metadata": {},
   "outputs": [],
   "source": [
    "from sklearn.metrics import confusion_matrix, ConfusionMatrixDisplay,accuracy_score"
   ]
  },
  {
   "cell_type": "code",
   "execution_count": 24,
   "metadata": {},
   "outputs": [
    {
     "data": {
      "text/plain": [
       "0.8113711659719995"
      ]
     },
     "execution_count": 24,
     "metadata": {},
     "output_type": "execute_result"
    }
   ],
   "source": [
    "accuracy_score(gt,np.argmax((predsRoberta+predsXLMRoberta+predsBert)/3,axis=1))"
   ]
  },
  {
   "cell_type": "code",
   "execution_count": 27,
   "metadata": {},
   "outputs": [],
   "source": [
    "cm = confusion_matrix(gt, np.argmax((predsRoberta+predsXLMRoberta+predsBert)/3,axis=1))"
   ]
  },
  {
   "cell_type": "code",
   "execution_count": 29,
   "metadata": {},
   "outputs": [],
   "source": [
    "disp = ConfusionMatrixDisplay(confusion_matrix=cm,display_labels=learnRoberta.dls.vocab)"
   ]
  },
  {
   "cell_type": "code",
   "execution_count": 30,
   "metadata": {},
   "outputs": [
    {
     "data": {
      "text/plain": [
       "<sklearn.metrics._plot.confusion_matrix.ConfusionMatrixDisplay at 0x7f04f068f5c0>"
      ]
     },
     "execution_count": 30,
     "metadata": {},
     "output_type": "execute_result"
    },
    {
     "data": {
      "image/png": "[encoded data removed]",
      "text/plain": [
       "<Figure size 432x288 with 2 Axes>"
      ]
     },
     "metadata": {
      "needs_background": "light"
     },
     "output_type": "display_data"
    }
   ],
   "source": [
    "disp.plot()"
   ]
  },
  {
   "cell_type": "code",
   "execution_count": 33,
   "metadata": {},
   "outputs": [],
   "source": [
    "preds = np.argmax((predsRoberta+predsXLMRoberta+predsBert)/3,axis=1)"
   ]
  },
  {
   "cell_type": "code",
   "execution_count": 41,
   "metadata": {},
   "outputs": [
    {
     "name": "stdout",
     "output_type": "stream",
     "text": [
      "Dos hijas viven con él y la otra en Marseille .\n",
      "Aquì ers solomente los huesos y los dientes .\n",
      " Feliz_Navidad\n",
      "Mi madre , sin_embargo , que vive con nosotros , estuvo resfriada por una semana .\n",
      "A ver adultos . .\n",
      "Adi'os !\n",
      "he visto ' avengers ' esta semana .\n",
      "Resulatara muertos , dolores profundos .\n",
      "Dice que hay un miembro de ellos en TOSHIBA .\n",
      "con ocho oscares despues ....\n",
      "Siendo yo aficionada a las películas , suelo ver las de cualquier género y época .\n",
      "Vive en las afueras y no tiene dinero para sostentar su família y sus hermanos .\n",
      "Es un hombre de negocios .\n"
     ]
    }
   ],
   "source": [
    "for i,(x,y) in enumerate(zip(gt,preds)):\n",
    "    if((x==4) and (y==0)):\n",
    "        print(test_df.iloc[i].Sentence)"
   ]
  },
  {
   "cell_type": "code",
   "execution_count": 42,
   "metadata": {},
   "outputs": [
    {
     "name": "stdout",
     "output_type": "stream",
     "text": [
      "No sabe aún si el niño es chico o chica .\n",
      "Vivo en Rio_de_Janeiro en la calle_Engenho_da_Pedra,_1377_piso_105 .\n",
      "Última película que vi , foi A_luz_de_tu_ojos , maravilhoso ...\n",
      "Quien habla que los funcionarios no trabajan hablan sien razón .\n",
      " Hidden_Figures\n",
      "¡ Espero su repuesta !\n",
      "La psicologia antigua dice que la fuente de gran parte de las neurosis de una persona es la família , pero , principalmente la madre ... entonces , creó que su descrición será más interesante ...\n"
     ]
    }
   ],
   "source": [
    "for i,(x,y) in enumerate(zip(gt,preds)):\n",
    "    if((x==0) and (y==4)):\n",
    "        print(test_df.iloc[i].Sentence)"
   ]
  },
  {
   "cell_type": "code",
   "execution_count": 38,
   "metadata": {},
   "outputs": [
    {
     "data": {
      "text/html": [
       "<div>\n",
       "<style scoped>\n",
       "    .dataframe tbody tr th:only-of-type {\n",
       "        vertical-align: middle;\n",
       "    }\n",
       "\n",
       "    .dataframe tbody tr th {\n",
       "        vertical-align: top;\n",
       "    }\n",
       "\n",
       "    .dataframe thead th {\n",
       "        text-align: right;\n",
       "    }\n",
       "</style>\n",
       "<table border=\"1\" class=\"dataframe\">\n",
       "  <thead>\n",
       "    <tr style=\"text-align: right;\">\n",
       "      <th></th>\n",
       "      <th>Unnamed: 0</th>\n",
       "      <th>Number</th>\n",
       "      <th>Word</th>\n",
       "      <th>Sentence</th>\n",
       "      <th>PpW2</th>\n",
       "      <th>PpW3</th>\n",
       "      <th>PpW4</th>\n",
       "      <th>PpW5</th>\n",
       "      <th>PpKenlm</th>\n",
       "      <th>Mother tongue</th>\n",
       "      <th>Level</th>\n",
       "      <th>is_valid</th>\n",
       "    </tr>\n",
       "  </thead>\n",
       "  <tbody>\n",
       "    <tr>\n",
       "      <th>0</th>\n",
       "      <td>1000</td>\n",
       "      <td>518081</td>\n",
       "      <td>necesario</td>\n",
       "      <td>Me gustaria tener informaciones sobre el precio de el programa y la duracion de cada nivel , por_favor es necesario saber si el alojamiento esta incluido .</td>\n",
       "      <td>5812.477796</td>\n",
       "      <td>15525.368873</td>\n",
       "      <td>27749.198276</td>\n",
       "      <td>36157.617688</td>\n",
       "      <td>2249.441791</td>\n",
       "      <td>Árabe</td>\n",
       "      <td>B2</td>\n",
       "      <td>True</td>\n",
       "    </tr>\n",
       "    <tr>\n",
       "      <th>1</th>\n",
       "      <td>75696</td>\n",
       "      <td>305398</td>\n",
       "      <td>y</td>\n",
       "      <td>Fuimos rapido a la parque y dentro_de la parque había cuatro mujeres que no podían salir porque la parque estaba cerrada .</td>\n",
       "      <td>10417.614305</td>\n",
       "      <td>26869.490397</td>\n",
       "      <td>39671.702823</td>\n",
       "      <td>43756.530750</td>\n",
       "      <td>2534.623254</td>\n",
       "      <td>Inglés</td>\n",
       "      <td>B1</td>\n",
       "      <td>True</td>\n",
       "    </tr>\n",
       "    <tr>\n",
       "      <th>2</th>\n",
       "      <td>303171</td>\n",
       "      <td>113448</td>\n",
       "      <td>de</td>\n",
       "      <td>La semana passada he biajado a marrakech para ver la cafeteria que ha sufrido de una explosión terorista en la plasa me encuentro una amiga antigua que no nos hamos visto desde 1983</td>\n",
       "      <td>18318.145081</td>\n",
       "      <td>43373.215379</td>\n",
       "      <td>66461.276833</td>\n",
       "      <td>77134.105946</td>\n",
       "      <td>3598.770393</td>\n",
       "      <td>Árabe</td>\n",
       "      <td>B1</td>\n",
       "      <td>True</td>\n",
       "    </tr>\n",
       "    <tr>\n",
       "      <th>3</th>\n",
       "      <td>10302</td>\n",
       "      <td>257239</td>\n",
       "      <td>que</td>\n",
       "      <td>Estoy esperando tu repuesta y espero que podrás ayudar la .</td>\n",
       "      <td>22787.581988</td>\n",
       "      <td>30042.864371</td>\n",
       "      <td>27105.101870</td>\n",
       "      <td>21405.012354</td>\n",
       "      <td>4078.286816</td>\n",
       "      <td>Árabe</td>\n",
       "      <td>B1</td>\n",
       "      <td>True</td>\n",
       "    </tr>\n",
       "    <tr>\n",
       "      <th>4</th>\n",
       "      <td>211078</td>\n",
       "      <td>48460</td>\n",
       "      <td>.</td>\n",
       "      <td>Admiro Lydia porque es muy fuerta .</td>\n",
       "      <td>23774.145632</td>\n",
       "      <td>21327.406113</td>\n",
       "      <td>15957.874962</td>\n",
       "      <td>11226.630721</td>\n",
       "      <td>9318.736115</td>\n",
       "      <td>Inglés</td>\n",
       "      <td>A2</td>\n",
       "      <td>True</td>\n",
       "    </tr>\n",
       "    <tr>\n",
       "      <th>...</th>\n",
       "      <td>...</td>\n",
       "      <td>...</td>\n",
       "      <td>...</td>\n",
       "      <td>...</td>\n",
       "      <td>...</td>\n",
       "      <td>...</td>\n",
       "      <td>...</td>\n",
       "      <td>...</td>\n",
       "      <td>...</td>\n",
       "      <td>...</td>\n",
       "      <td>...</td>\n",
       "      <td>...</td>\n",
       "    </tr>\n",
       "    <tr>\n",
       "      <th>9352</th>\n",
       "      <td>151324</td>\n",
       "      <td>605157</td>\n",
       "      <td>tiempo</td>\n",
       "      <td>El tiempo era bastante bonito aunque en Francía estaba llovando mucho .</td>\n",
       "      <td>11000.848408</td>\n",
       "      <td>15785.623614</td>\n",
       "      <td>15545.249540</td>\n",
       "      <td>13192.598180</td>\n",
       "      <td>9827.414408</td>\n",
       "      <td>Francés</td>\n",
       "      <td>A2</td>\n",
       "      <td>True</td>\n",
       "    </tr>\n",
       "    <tr>\n",
       "      <th>9353</th>\n",
       "      <td>28097</td>\n",
       "      <td>280490</td>\n",
       "      <td>su</td>\n",
       "      <td>Ahora está viviendo en Berlin con su novia , hace un master de la automatica .</td>\n",
       "      <td>2898.197170</td>\n",
       "      <td>7900.798061</td>\n",
       "      <td>13271.979210</td>\n",
       "      <td>16210.611272</td>\n",
       "      <td>6157.978035</td>\n",
       "      <td>Chino mandarín</td>\n",
       "      <td>A2</td>\n",
       "      <td>True</td>\n",
       "    </tr>\n",
       "    <tr>\n",
       "      <th>9354</th>\n",
       "      <td>90728</td>\n",
       "      <td>4665</td>\n",
       "      <td>,</td>\n",
       "      <td>Adiòs ,</td>\n",
       "      <td>40439.816095</td>\n",
       "      <td>12118.100296</td>\n",
       "      <td>5303.097765</td>\n",
       "      <td>2965.636513</td>\n",
       "      <td>19890.861921</td>\n",
       "      <td>Árabe</td>\n",
       "      <td>A1</td>\n",
       "      <td>True</td>\n",
       "    </tr>\n",
       "    <tr>\n",
       "      <th>9355</th>\n",
       "      <td>42031</td>\n",
       "      <td>105624</td>\n",
       "      <td>de</td>\n",
       "      <td>En la 11_de_Noviembre , yo tome el vuelo de once_en_la_manana de Chicago a Nueva_York .</td>\n",
       "      <td>11449.915173</td>\n",
       "      <td>18537.417478</td>\n",
       "      <td>20904.434506</td>\n",
       "      <td>19282.894437</td>\n",
       "      <td>13335.536439</td>\n",
       "      <td>Inglés</td>\n",
       "      <td>B1</td>\n",
       "      <td>True</td>\n",
       "    </tr>\n",
       "    <tr>\n",
       "      <th>9356</th>\n",
       "      <td>161252</td>\n",
       "      <td>56680</td>\n",
       "      <td>,</td>\n",
       "      <td>Mami ,</td>\n",
       "      <td>14806.101914</td>\n",
       "      <td>7582.214799</td>\n",
       "      <td>4046.186598</td>\n",
       "      <td>2487.445063</td>\n",
       "      <td>19890.861921</td>\n",
       "      <td>Árabe</td>\n",
       "      <td>A1</td>\n",
       "      <td>True</td>\n",
       "    </tr>\n",
       "  </tbody>\n",
       "</table>\n",
       "<p>9357 rows × 12 columns</p>\n",
       "</div>"
      ],
      "text/plain": [
       "      Unnamed: 0  Number       Word  \\\n",
       "0           1000  518081  necesario   \n",
       "1          75696  305398          y   \n",
       "2         303171  113448         de   \n",
       "3          10302  257239        que   \n",
       "4         211078   48460          .   \n",
       "...          ...     ...        ...   \n",
       "9352      151324  605157     tiempo   \n",
       "9353       28097  280490         su   \n",
       "9354       90728    4665          ,   \n",
       "9355       42031  105624         de   \n",
       "9356      161252   56680          ,   \n",
       "\n",
       "                                                                                                                                                                                   Sentence  \\\n",
       "0                               Me gustaria tener informaciones sobre el precio de el programa y la duracion de cada nivel , por_favor es necesario saber si el alojamiento esta incluido .   \n",
       "1                                                                Fuimos rapido a la parque y dentro_de la parque había cuatro mujeres que no podían salir porque la parque estaba cerrada .   \n",
       "2     La semana passada he biajado a marrakech para ver la cafeteria que ha sufrido de una explosión terorista en la plasa me encuentro una amiga antigua que no nos hamos visto desde 1983   \n",
       "3                                                                                                                               Estoy esperando tu repuesta y espero que podrás ayudar la .   \n",
       "4                                                                                                                                                       Admiro Lydia porque es muy fuerta .   \n",
       "...                                                                                                                                                                                     ...   \n",
       "9352                                                                                                                El tiempo era bastante bonito aunque en Francía estaba llovando mucho .   \n",
       "9353                                                                                                         Ahora está viviendo en Berlin con su novia , hace un master de la automatica .   \n",
       "9354                                                                                                                                                                                Adiòs ,   \n",
       "9355                                                                                                En la 11_de_Noviembre , yo tome el vuelo de once_en_la_manana de Chicago a Nueva_York .   \n",
       "9356                                                                                                                                                                                 Mami ,   \n",
       "\n",
       "              PpW2          PpW3          PpW4          PpW5       PpKenlm  \\\n",
       "0      5812.477796  15525.368873  27749.198276  36157.617688   2249.441791   \n",
       "1     10417.614305  26869.490397  39671.702823  43756.530750   2534.623254   \n",
       "2     18318.145081  43373.215379  66461.276833  77134.105946   3598.770393   \n",
       "3     22787.581988  30042.864371  27105.101870  21405.012354   4078.286816   \n",
       "4     23774.145632  21327.406113  15957.874962  11226.630721   9318.736115   \n",
       "...            ...           ...           ...           ...           ...   \n",
       "9352  11000.848408  15785.623614  15545.249540  13192.598180   9827.414408   \n",
       "9353   2898.197170   7900.798061  13271.979210  16210.611272   6157.978035   \n",
       "9354  40439.816095  12118.100296   5303.097765   2965.636513  19890.861921   \n",
       "9355  11449.915173  18537.417478  20904.434506  19282.894437  13335.536439   \n",
       "9356  14806.101914   7582.214799   4046.186598   2487.445063  19890.861921   \n",
       "\n",
       "       Mother tongue Level  is_valid  \n",
       "0              Árabe    B2      True  \n",
       "1             Inglés    B1      True  \n",
       "2              Árabe    B1      True  \n",
       "3              Árabe    B1      True  \n",
       "4             Inglés    A2      True  \n",
       "...              ...   ...       ...  \n",
       "9352         Francés    A2      True  \n",
       "9353  Chino mandarín    A2      True  \n",
       "9354           Árabe    A1      True  \n",
       "9355          Inglés    B1      True  \n",
       "9356           Árabe    A1      True  \n",
       "\n",
       "[9357 rows x 12 columns]"
      ]
     },
     "execution_count": 38,
     "metadata": {},
     "output_type": "execute_result"
    }
   ],
   "source": [
    "test_df"
   ]
  },
  {
   "cell_type": "code",
   "execution_count": null,
   "metadata": {},
   "outputs": [],
   "source": []
  }
 ],
 "metadata": {
  "kernelspec": {
   "display_name": "Python 3",
   "language": "python",
   "name": "python3"
  },
  "language_info": {
   "codemirror_mode": {
    "name": "ipython",
    "version": 3
   },
   "file_extension": ".py",
   "mimetype": "text/x-python",
   "name": "python",
   "nbconvert_exporter": "python",
   "pygments_lexer": "ipython3",
   "version": "3.6.7"
  }
 },
 "nbformat": 4,
 "nbformat_minor": 4
}
