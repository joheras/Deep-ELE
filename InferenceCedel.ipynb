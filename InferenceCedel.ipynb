{
 "cells": [
  {
   "cell_type": "code",
   "execution_count": 1,
   "metadata": {},
   "outputs": [
    {
     "name": "stderr",
     "output_type": "stream",
     "text": [
      "/home/jonathan/.virtualenvs/huggingface/lib/python3.6/site-packages/torchaudio/backend/utils.py:54: UserWarning: \"sox\" backend is being deprecated. The default backend will be changed to \"sox_io\" backend in 0.8.0 and \"sox\" backend will be removed in 0.9.0. Please migrate to \"sox_io\" backend. Please refer to https://github.com/pytorch/audio/issues/903 for the detail.\n",
      "  '\"sox\" backend is being deprecated. '\n"
     ]
    }
   ],
   "source": [
    "from fastai.data.all import *\n",
    "from fastai.learner import *\n",
    "from fastai.losses import CrossEntropyLossFlat\n",
    "from fastai.optimizer import Adam, OptimWrapper, params\n",
    "from fastai.metrics import accuracy, F1Score\n",
    "from fastai.torch_core import *\n",
    "from fastai.torch_imports import *\n",
    "from transformers import AutoModelForSequenceClassification\n",
    "import pandas as pd\n",
    "from blurr.text.data.core import *\n",
    "from blurr.text.modeling.core import *\n",
    "from blurr.text.utils import NLP as BLURR # lo importamos así para que sea compatible con el resto\n",
    "from datasets import load_dataset, concatenate_datasets"
   ]
  },
  {
   "cell_type": "code",
   "execution_count": 2,
   "metadata": {},
   "outputs": [],
   "source": [
    "import torch\n",
    "torch.cuda.set_device(0)"
   ]
  },
  {
   "cell_type": "code",
   "execution_count": 3,
   "metadata": {},
   "outputs": [],
   "source": [
    "train_df = pd.read_csv('perplejidad/datasets/train_train_set.csv',delimiter='\\t')"
   ]
  },
  {
   "cell_type": "code",
   "execution_count": 4,
   "metadata": {},
   "outputs": [],
   "source": [
    "train_df['is_valid']=False"
   ]
  },
  {
   "cell_type": "code",
   "execution_count": 5,
   "metadata": {},
   "outputs": [],
   "source": [
    "dl_kwargs = {\"bs\": 64, \"val_bs\": 64}\n",
    "learn_kwargs = {\"metrics\": [accuracy]}"
   ]
  },
  {
   "cell_type": "code",
   "execution_count": 6,
   "metadata": {},
   "outputs": [],
   "source": [
    "test_df = pd.read_csv('perplejidad/datasets/test_set.csv',delimiter='\\t')"
   ]
  },
  {
   "cell_type": "code",
   "execution_count": 7,
   "metadata": {},
   "outputs": [],
   "source": [
    "test_df['is_valid']=True"
   ]
  },
  {
   "cell_type": "code",
   "execution_count": 8,
   "metadata": {},
   "outputs": [],
   "source": [
    "train_test_df = pd.concat([train_df,test_df])"
   ]
  },
  {
   "cell_type": "code",
   "execution_count": 9,
   "metadata": {},
   "outputs": [],
   "source": [
    "train_idxs, test_idxs = L(range(len(train_test_df[train_test_df.is_valid==False]))), L(range(len(train_test_df[train_test_df.is_valid==False]), len(train_test_df)))"
   ]
  },
  {
   "cell_type": "code",
   "execution_count": 10,
   "metadata": {},
   "outputs": [],
   "source": [
    "learnXLMRoberta = BlearnerForSequenceClassification.from_data(\n",
    "    train_test_df,\n",
    "    \"xlm-roberta-base\",\n",
    "    text_attr=\"Sentence\",\n",
    "    label_attr=\"Level\",\n",
    "    dblock_splitter=IndexSplitter(test_idxs),\n",
    "    dl_kwargs=dl_kwargs,\n",
    "    learner_kwargs=learn_kwargs,\n",
    ")"
   ]
  },
  {
   "cell_type": "code",
   "execution_count": 11,
   "metadata": {},
   "outputs": [
    {
     "data": {
      "text/plain": [
       "<blurr.text.modeling.core.BlearnerForSequenceClassification at 0x7f167bcfe9b0>"
      ]
     },
     "execution_count": 11,
     "metadata": {},
     "output_type": "execute_result"
    }
   ],
   "source": [
    "learnXLMRoberta.load('xlm-roberta-base')"
   ]
  },
  {
   "cell_type": "code",
   "execution_count": 13,
   "metadata": {},
   "outputs": [],
   "source": [
    "dfCEDEL = pd.read_csv('cedelSample.csv')"
   ]
  },
  {
   "cell_type": "code",
   "execution_count": 14,
   "metadata": {},
   "outputs": [],
   "source": [
    "def predict(text):    \n",
    "    prediction = learnXLMRoberta.predict(text)[0]\n",
    "    return prediction['class_labels'][prediction['class_index']]\n",
    "    \n",
    "dfCEDEL['prediction'] = dfCEDEL['Text'].apply(lambda x : predict(x))"
   ]
  },
  {
   "cell_type": "code",
   "execution_count": 15,
   "metadata": {},
   "outputs": [],
   "source": [
    "import numpy as np\n",
    "niveles = ['A1','A2','B1','B2','C1']\n",
    "\n",
    "def predict_sentences(text):\n",
    "    sentences = text.split('.')\n",
    "    prediction = np.sum([learnXLMRoberta.predict(x)[0]['probs'] for x in sentences],axis=0)/len(sentences)\n",
    "    return niveles[np.argmax(prediction)]\n",
    "    \n",
    "dfCEDEL['predictionSencences'] = dfCEDEL['Text'].apply(lambda x : predict_sentences(x))"
   ]
  },
  {
   "cell_type": "code",
   "execution_count": 16,
   "metadata": {},
   "outputs": [],
   "source": [
    "import numpy as np\n",
    "niveles = ['A1','A2','B1','B2','C1']\n",
    "\n",
    "def predict_sentences_split(text):\n",
    "    sentences = text.split('.')\n",
    "    prediction = [niveles[np.argmax(learnXLMRoberta.predict(x)[0]['probs'])] for x in sentences]\n",
    "    return prediction\n",
    "    \n",
    "dfCEDEL['predictionIndSencences'] = dfCEDEL['Text'].apply(lambda x : predict_sentences_split(x))"
   ]
  },
  {
   "cell_type": "code",
   "execution_count": 17,
   "metadata": {},
   "outputs": [],
   "source": [
    "from sklearn.metrics import accuracy_score,confusion_matrix"
   ]
  },
  {
   "cell_type": "code",
   "execution_count": 18,
   "metadata": {},
   "outputs": [
    {
     "data": {
      "text/plain": [
       "0.26"
      ]
     },
     "execution_count": 18,
     "metadata": {},
     "output_type": "execute_result"
    }
   ],
   "source": [
    "accuracy_score(dfCEDEL['level'],dfCEDEL['prediction'])"
   ]
  },
  {
   "cell_type": "code",
   "execution_count": 19,
   "metadata": {},
   "outputs": [
    {
     "data": {
      "text/plain": [
       "0.312"
      ]
     },
     "execution_count": 19,
     "metadata": {},
     "output_type": "execute_result"
    }
   ],
   "source": [
    "accuracy_score(dfCEDEL[dfCEDEL.level!='C2']['level'],dfCEDEL[dfCEDEL.level!='C2']['prediction'])"
   ]
  },
  {
   "cell_type": "code",
   "execution_count": 20,
   "metadata": {},
   "outputs": [
    {
     "data": {
      "text/plain": [
       "0.328"
      ]
     },
     "execution_count": 20,
     "metadata": {},
     "output_type": "execute_result"
    }
   ],
   "source": [
    "accuracy_score(dfCEDEL[dfCEDEL.level!='C2']['level'],dfCEDEL[dfCEDEL.level!='C2']['predictionSencences'])"
   ]
  },
  {
   "cell_type": "code",
   "execution_count": 21,
   "metadata": {},
   "outputs": [
    {
     "data": {
      "text/plain": [
       "array([[14, 24,  5,  2,  5],\n",
       "       [ 9, 26,  3,  5,  7],\n",
       "       [ 4, 20,  7, 11,  8],\n",
       "       [ 1, 18,  7,  8, 16],\n",
       "       [ 0, 13,  5,  9, 23]])"
      ]
     },
     "execution_count": 21,
     "metadata": {},
     "output_type": "execute_result"
    }
   ],
   "source": [
    "confusion_matrix(dfCEDEL[dfCEDEL.level!='C2']['level'],dfCEDEL[dfCEDEL.level!='C2']['prediction'])"
   ]
  },
  {
   "cell_type": "code",
   "execution_count": 22,
   "metadata": {},
   "outputs": [
    {
     "data": {
      "text/plain": [
       "array([[20, 18,  6,  2,  4],\n",
       "       [15, 22,  5,  1,  7],\n",
       "       [ 8, 18,  9,  3, 12],\n",
       "       [ 1, 17,  8,  7, 17],\n",
       "       [ 0, 10, 10,  6, 24]])"
      ]
     },
     "execution_count": 22,
     "metadata": {},
     "output_type": "execute_result"
    }
   ],
   "source": [
    "confusion_matrix(dfCEDEL[dfCEDEL.level!='C2']['level'],dfCEDEL[dfCEDEL.level!='C2']['predictionSencences'])"
   ]
  },
  {
   "cell_type": "code",
   "execution_count": 23,
   "metadata": {},
   "outputs": [],
   "source": [
    "dfCEDELNoC2 = dfCEDEL[dfCEDEL.level!='C2']"
   ]
  },
  {
   "cell_type": "code",
   "execution_count": 27,
   "metadata": {},
   "outputs": [],
   "source": [
    "gt = []\n",
    "preds = []\n",
    "\n",
    "for level,predictions in zip(dfCEDELNoC2.level,dfCEDELNoC2.predictionIndSencences):\n",
    "    for x in predictions:\n",
    "        gt.append(level)\n",
    "        preds.append(x)"
   ]
  },
  {
   "cell_type": "code",
   "execution_count": 29,
   "metadata": {},
   "outputs": [
    {
     "data": {
      "text/plain": [
       "0.2572347266881029"
      ]
     },
     "execution_count": 29,
     "metadata": {},
     "output_type": "execute_result"
    }
   ],
   "source": [
    "accuracy_score(gt,preds)"
   ]
  },
  {
   "cell_type": "code",
   "execution_count": 30,
   "metadata": {},
   "outputs": [
    {
     "data": {
      "text/plain": [
       "array([[295, 322,  69,  56,  31],\n",
       "       [370, 303,  52,  31,  58],\n",
       "       [154, 355, 144,  90, 146],\n",
       "       [ 93, 319, 187, 134, 130],\n",
       "       [113, 228, 241, 189, 244]])"
      ]
     },
     "execution_count": 30,
     "metadata": {},
     "output_type": "execute_result"
    }
   ],
   "source": [
    "confusion_matrix(gt,preds)"
   ]
  },
  {
   "cell_type": "code",
   "execution_count": 33,
   "metadata": {},
   "outputs": [
    {
     "data": {
      "text/plain": [
       "0.6465319246669728"
      ]
     },
     "execution_count": 33,
     "metadata": {},
     "output_type": "execute_result"
    }
   ],
   "source": [
    "(295+322+370+303+52+355+144+90+187+134+130+189+244)/len(gt)"
   ]
  },
  {
   "cell_type": "code",
   "execution_count": null,
   "metadata": {},
   "outputs": [],
   "source": [
    "dfCEDEL[dfCEDEL.level!='B1'].drop('prediction',axis=1)"
   ]
  },
  {
   "cell_type": "code",
   "execution_count": null,
   "metadata": {},
   "outputs": [],
   "source": [
    "dfCEDEL[dfCEDEL.level!='C2'].drop(['prediction'],axis=1)"
   ]
  },
  {
   "cell_type": "code",
   "execution_count": null,
   "metadata": {
    "scrolled": true
   },
   "outputs": [],
   "source": [
    "learnXLMRoberta.predict(' !Mi planes para el futero es estudiar mas espanol!')"
   ]
  },
  {
   "cell_type": "code",
   "execution_count": null,
   "metadata": {},
   "outputs": [],
   "source": [
    "learnXLMRoberta.predict(' ¡Mi planes para el futero es estudiar mas espanol!')"
   ]
  },
  {
   "cell_type": "code",
   "execution_count": null,
   "metadata": {},
   "outputs": [],
   "source": [
    "learnXLMRoberta.predict(' ¡Mis planes para el futero son estudiar mas espanol!')"
   ]
  },
  {
   "cell_type": "code",
   "execution_count": null,
   "metadata": {
    "scrolled": true
   },
   "outputs": [],
   "source": [
    "learnXLMRoberta.predict('¡Mi plan para el futero es estudiar mas espanol!')"
   ]
  },
  {
   "cell_type": "code",
   "execution_count": null,
   "metadata": {
    "scrolled": true
   },
   "outputs": [],
   "source": [
    "learnXLMRoberta.predict('¡Mi plan para el futuro es estudiar mas español!')"
   ]
  },
  {
   "cell_type": "code",
   "execution_count": null,
   "metadata": {},
   "outputs": [],
   "source": [
    "learnXLMRoberta.predict('¡Mi plan para el futuro es estudiar más español!')"
   ]
  },
  {
   "cell_type": "code",
   "execution_count": null,
   "metadata": {},
   "outputs": [],
   "source": [
    "learnXLMRoberta.predict('Ella es muy mal actriz')"
   ]
  },
  {
   "cell_type": "code",
   "execution_count": null,
   "metadata": {},
   "outputs": [],
   "source": [
    "learnXLMRoberta.predict('Ella es muy mala actriz')"
   ]
  },
  {
   "cell_type": "code",
   "execution_count": null,
   "metadata": {},
   "outputs": [],
   "source": [
    "learnXLMRoberta.predict('Ellos es amigos')"
   ]
  },
  {
   "cell_type": "code",
   "execution_count": null,
   "metadata": {},
   "outputs": [],
   "source": [
    "learnXLMRoberta.predict('Ellos son amigos')"
   ]
  },
  {
   "cell_type": "code",
   "execution_count": null,
   "metadata": {},
   "outputs": [],
   "source": [
    "learnXLMRoberta.predict('Boy haber una casa')"
   ]
  },
  {
   "cell_type": "code",
   "execution_count": null,
   "metadata": {},
   "outputs": [],
   "source": [
    "learnXLMRoberta.predict('Voy haber una casa')"
   ]
  },
  {
   "cell_type": "code",
   "execution_count": null,
   "metadata": {},
   "outputs": [],
   "source": [
    "learnXLMRoberta.predict('Voy a ber una casa')"
   ]
  },
  {
   "cell_type": "code",
   "execution_count": null,
   "metadata": {},
   "outputs": [],
   "source": [
    "learnXLMRoberta.predict('Boy a ber una casa')"
   ]
  },
  {
   "cell_type": "code",
   "execution_count": null,
   "metadata": {},
   "outputs": [],
   "source": [
    "learnXLMRoberta.predict('Voy a ber una casa')"
   ]
  },
  {
   "cell_type": "code",
   "execution_count": null,
   "metadata": {},
   "outputs": [],
   "source": [
    "learnXLMRoberta.predict('Voy a ver una casa')"
   ]
  },
  {
   "cell_type": "code",
   "execution_count": null,
   "metadata": {},
   "outputs": [],
   "source": [
    "learnXLMRoberta.predict('Me olvidé comprar pan')"
   ]
  },
  {
   "cell_type": "code",
   "execution_count": null,
   "metadata": {},
   "outputs": [],
   "source": [
    "learnXLMRoberta.predict('Me olvidé de comprar pan')"
   ]
  },
  {
   "cell_type": "code",
   "execution_count": null,
   "metadata": {},
   "outputs": [],
   "source": [
    "dfCEDEL[dfCEDEL.level!='C2']"
   ]
  },
  {
   "cell_type": "code",
   "execution_count": null,
   "metadata": {},
   "outputs": [],
   "source": [
    "dfCEDEL[(dfCEDEL.level=='C2')&(dfCEDEL.predictionSencences=='A2')]"
   ]
  },
  {
   "cell_type": "code",
   "execution_count": 34,
   "metadata": {},
   "outputs": [
    {
     "data": {
      "text/html": [
       "<div>\n",
       "<style scoped>\n",
       "    .dataframe tbody tr th:only-of-type {\n",
       "        vertical-align: middle;\n",
       "    }\n",
       "\n",
       "    .dataframe tbody tr th {\n",
       "        vertical-align: top;\n",
       "    }\n",
       "\n",
       "    .dataframe thead th {\n",
       "        text-align: right;\n",
       "    }\n",
       "</style>\n",
       "<table border=\"1\" class=\"dataframe\">\n",
       "  <thead>\n",
       "    <tr style=\"text-align: right;\">\n",
       "      <th></th>\n",
       "      <th>L1</th>\n",
       "      <th>Proficiency</th>\n",
       "      <th>Text</th>\n",
       "      <th>level</th>\n",
       "      <th>prediction</th>\n",
       "      <th>predictionSencences</th>\n",
       "      <th>predictionIndSencences</th>\n",
       "    </tr>\n",
       "  </thead>\n",
       "  <tbody>\n",
       "    <tr>\n",
       "      <th>0</th>\n",
       "      <td>English</td>\n",
       "      <td>Lower beginner</td>\n",
       "      <td>Me llamo es Helena. Ahora mismo soy estudiante en universidad Georgia State. Yo soy trabajadora en el restaurante. Yo soy mucho interesante en espanol. Yo quiero aprender hablar espanol con mi amigos. !Mi planes para el futero es estudiar mas espanol!</td>\n",
       "      <td>A1</td>\n",
       "      <td>A2</td>\n",
       "      <td>A1</td>\n",
       "      <td>[B1, B2, A1, A1, A2, A1]</td>\n",
       "    </tr>\n",
       "    <tr>\n",
       "      <th>1</th>\n",
       "      <td>English</td>\n",
       "      <td>Lower beginner</td>\n",
       "      <td>La Region donde vive es EE.UU. Tengo vive en Georgia. Me mama y papa viven en Georgia. EE.UU es viver muy bien. Diferente regions mucho calor y otros mucho frio. En inverino, Georgia es frio. Inverino es diciembre y februro. Prefiere el inverino porque los holidays y me cumpleonous es en diciembre.</td>\n",
       "      <td>A1</td>\n",
       "      <td>A2</td>\n",
       "      <td>A1</td>\n",
       "      <td>[A2, B2, A1, A1, B1, A1, A2, A2, A1, A1, A1]</td>\n",
       "    </tr>\n",
       "    <tr>\n",
       "      <th>2</th>\n",
       "      <td>English</td>\n",
       "      <td>Lower beginner</td>\n",
       "      <td>Hola! Como Esta? &lt;br/&gt;  !No hablo espanol! Muy dicifil! Jennifer Lopez es muy talentoso. Ella es vive en norteamericano con Senor Anthony.Senora Lopez tiene muy amigos y amigas famosa en Holllywood. Ella canta es muy mal. !Muy Mal! Jennifer Lopez es bonita y delgada y interesante. Ella es tanto. Es de donde Nueva York. Ella es muy mal actriz.</td>\n",
       "      <td>A1</td>\n",
       "      <td>A2</td>\n",
       "      <td>A2</td>\n",
       "      <td>[A2, A1, A2, A1, A2, A2, A2, A1, A1]</td>\n",
       "    </tr>\n",
       "    <tr>\n",
       "      <th>3</th>\n",
       "      <td>English</td>\n",
       "      <td>Lower beginner</td>\n",
       "      <td>Pienso que la nueva ley anti tabacco no es correcta en todo. Creo que desde que somos un contry libre que debemos ser capaces de hacer lo que queremos. Que medios que si personas quieren fumar y matar thereselves entonces usted los debe permitir. Por qué debe salimos de nuestra manera de cerciorarse ellos permanecen sano. Pienso que la ley es muy muda. Soy un creyente fuerte que usted debe ser capaz de hacer lo que usted quiere. Esta nueva ley le empuja un liitle a lejos. No a muchas personas ser án apenas capaz de dejar de fumar porque alguien los dice también. ¿Tomará tiempo para ellos d...</td>\n",
       "      <td>A1</td>\n",
       "      <td>B2</td>\n",
       "      <td>B2</td>\n",
       "      <td>[B2, B2, B2, B2, A1, B2, B2, B2, B2, B2, B2, B2, B2, B2, A1]</td>\n",
       "    </tr>\n",
       "    <tr>\n",
       "      <th>4</th>\n",
       "      <td>English</td>\n",
       "      <td>Lower beginner</td>\n",
       "      <td>Hola, Me llamo Brittnay! yo tengo dos personas famosa! Mi favorita es Tyra Banks. Ella es la primera negrea modelo en todo el mundo.Ella es muy bonita y tienes un grande crozon. Ella ayuda mucho con el ninos con no padres . Mucho estrellas ayuda nada, pero no Tyra. Ella das su corzon todo! Tyra tambien ayuda mi! Tyra das mi familia 10,000 dolares para un nuevo casa. Mi familia nunca tiene dinero. Mi papa y mi mama tienes muchos problemas con uds.salud! Mi papa no tienes manos y mi mama no tienes tambien. Yo trababjo much para mi familia. Nosotros no tengo carro y yo nunca tiene un casa! Yo...</td>\n",
       "      <td>A1</td>\n",
       "      <td>A2</td>\n",
       "      <td>A2</td>\n",
       "      <td>[A2, A2, A1, A2, A2, A2, B1, A1, A1, A1, A2, A1, A2, A2, A2, A2, A2, B1, A2, B1, B1, A2]</td>\n",
       "    </tr>\n",
       "    <tr>\n",
       "      <th>...</th>\n",
       "      <td>...</td>\n",
       "      <td>...</td>\n",
       "      <td>...</td>\n",
       "      <td>...</td>\n",
       "      <td>...</td>\n",
       "      <td>...</td>\n",
       "      <td>...</td>\n",
       "    </tr>\n",
       "    <tr>\n",
       "      <th>295</th>\n",
       "      <td>German</td>\n",
       "      <td>Upper advanced</td>\n",
       "      <td>La película sin sonido en negra y blanca se trata de Charles Chaplin. En ella encuentra a un bebé en la calle. Primero piensa que se trata del bebé de una mujer que ha entrado una casa cercana, pero al poner el bebé en el cochecito, la mujer sale del edificio y dice que no es su bebé. Él intenta poner el bebé en su lugar original pero un policía le ve y por eso levanta al bebé otra vez y se va. Ve a un hombre y decide darle el bebé sin decir algo y salir corriendo. El hombre está sorprendido y sigue a Charles. No puede encontrarle pero ve un cochecito enfrente de una tienda. Pone el bebé e...</td>\n",
       "      <td>C2</td>\n",
       "      <td>C1</td>\n",
       "      <td>C1</td>\n",
       "      <td>[C1, C1, C1, C1, C1, C1, B1, B1, C1, B1, B1, C1, A1]</td>\n",
       "    </tr>\n",
       "    <tr>\n",
       "      <th>296</th>\n",
       "      <td>English</td>\n",
       "      <td>Upper advanced</td>\n",
       "      <td>Mi futuro. El qué hacer profesional. La verdad es que ni tengo idea. ¿Por qué usar fuentes adicionales o hacer investigaciones para una composición que no tiene una respuesta definida? Mis planes para el futuro me suena ya un poco a esas composiciones de primaria, cuando el mundo era todavía una ostra -si es que funciona esa frase en español- y tus esperanzas y sueños eran igualmente ilimitadas. Ahora, ya en mi tercera década de vida, me siento como si fuera uno de esos transeúntes ambulantes que vagabundea por las calles, ebrio, sin dirección fija, perdido. En realidad, mis planes para el...</td>\n",
       "      <td>C2</td>\n",
       "      <td>B2</td>\n",
       "      <td>B2</td>\n",
       "      <td>[B2, B2, B1, B2, C1, B2, B2, B2, B1, C1, B2, B2, B2, A1, B1, C1, B1, B2, C1, B2, B1, C1, C1]</td>\n",
       "    </tr>\n",
       "    <tr>\n",
       "      <th>297</th>\n",
       "      <td>Japanese</td>\n",
       "      <td>Upper advanced</td>\n",
       "      <td>Rana, ¿dónde estás?  Hoy Nico ha estado en un parque y encontró una rana.  La ha traído a casa y la mete en un bote.  ¡Pero qué bonito canta!  Muy contento, el niño se va a dormir pero se le olvida ponerle una tapa al bote.  Al día siguiente, cuando se despertó, la rana ya se había ido.  Vuelve al parque dónde la encontró el día anterior y la busca en todas partes pero no la encuentra.  Mira, hay una roca grande.  ¡Tal vez de allí arriba se ve mejor y hasta lejos!  Se sube y se apoya con unas ramas para no caerse.  Pero no, ¡no era un árbol sino un ciervo que estaba echando una siesta!  As...</td>\n",
       "      <td>C2</td>\n",
       "      <td>B1</td>\n",
       "      <td>B1</td>\n",
       "      <td>[B1, A1, C1, B1, B1, B1, C1, B1, C1, B1, B1, B1, C1, C1, A1]</td>\n",
       "    </tr>\n",
       "    <tr>\n",
       "      <th>298</th>\n",
       "      <td>Italian</td>\n",
       "      <td>Upper advanced</td>\n",
       "      <td>En la primera escena, Charlie Chaplin está fumando un cigarrillo. De repente algunos ladrillos le caen sobre la cabeza y le apagan el cigarrillo. Aun los ladrillos, él se enciende otro cigarrillo. Mientras está fumando, oye un llanto de un niño. De hecho, cerca de él hay un niño, Charlie lo toma en sus brazos y cuando ve una señora con un cochecito en el cual hay otro niño decide de dejarlo allí, porque piensa que es suyo. Pero la señora se enfada, porque el niño no es suyo. Encones Charlie lo toma y lo deja donde lo ha encontrado. Pero en aquel exacto momento llega un oficial que piensa q...</td>\n",
       "      <td>C2</td>\n",
       "      <td>B2</td>\n",
       "      <td>C1</td>\n",
       "      <td>[B2, B2, B2, B2, C1, C1, C1, C1, C1, C1, C1, C1, C1, C1, C1, A1]</td>\n",
       "    </tr>\n",
       "    <tr>\n",
       "      <th>299</th>\n",
       "      <td>Portuguese</td>\n",
       "      <td>Upper advanced</td>\n",
       "      <td>Charlie Chaplin estaba paseando por la calle cuándo encontró un bebé en la basura.Cogió el bebé pero lo devolvió a la basura, cuándo  de repente apareció um oficial de la policía. Luego cogió el bebé y lo dió a un hombre que andaba por la calle. Pero él  hombre puso puso él bebé  en un carrito de bebé dónde estaba una chica.Charlie Chaplin pasó por él bebé y lo ignoró, seguió caminando y una mujer le dió com el paraaguas en la cabeza y luego Charlie volvió a coger él bebé.Con él bebé en los brazos se sentó en la esquina  y de repente, encontró un billete en el medio de la ropa.</td>\n",
       "      <td>C2</td>\n",
       "      <td>B1</td>\n",
       "      <td>B1</td>\n",
       "      <td>[C1, B1, B1, C1, B1, B1, A1]</td>\n",
       "    </tr>\n",
       "  </tbody>\n",
       "</table>\n",
       "<p>300 rows × 7 columns</p>\n",
       "</div>"
      ],
      "text/plain": [
       "             L1     Proficiency  \\\n",
       "0       English  Lower beginner   \n",
       "1       English  Lower beginner   \n",
       "2       English  Lower beginner   \n",
       "3       English  Lower beginner   \n",
       "4       English  Lower beginner   \n",
       "..          ...             ...   \n",
       "295      German  Upper advanced   \n",
       "296     English  Upper advanced   \n",
       "297    Japanese  Upper advanced   \n",
       "298     Italian  Upper advanced   \n",
       "299  Portuguese  Upper advanced   \n",
       "\n",
       "                                                                                                                                                                                                                                                                                                                                                                                                                                                                                                                                                                                                                        Text  \\\n",
       "0                                                                                                                                                                                                                                                                                                                                                                Me llamo es Helena. Ahora mismo soy estudiante en universidad Georgia State. Yo soy trabajadora en el restaurante. Yo soy mucho interesante en espanol. Yo quiero aprender hablar espanol con mi amigos. !Mi planes para el futero es estudiar mas espanol!   \n",
       "1                                                                                                                                                                                                                                                                                                                La Region donde vive es EE.UU. Tengo vive en Georgia. Me mama y papa viven en Georgia. EE.UU es viver muy bien. Diferente regions mucho calor y otros mucho frio. En inverino, Georgia es frio. Inverino es diciembre y februro. Prefiere el inverino porque los holidays y me cumpleonous es en diciembre.   \n",
       "2                                                                                                                                                                                                                                                                   Hola! Como Esta? <br/>  !No hablo espanol! Muy dicifil! Jennifer Lopez es muy talentoso. Ella es vive en norteamericano con Senor Anthony.Senora Lopez tiene muy amigos y amigas famosa en Holllywood. Ella canta es muy mal. !Muy Mal! Jennifer Lopez es bonita y delgada y interesante. Ella es tanto. Es de donde Nueva York. Ella es muy mal actriz.   \n",
       "3    Pienso que la nueva ley anti tabacco no es correcta en todo. Creo que desde que somos un contry libre que debemos ser capaces de hacer lo que queremos. Que medios que si personas quieren fumar y matar thereselves entonces usted los debe permitir. Por qué debe salimos de nuestra manera de cerciorarse ellos permanecen sano. Pienso que la ley es muy muda. Soy un creyente fuerte que usted debe ser capaz de hacer lo que usted quiere. Esta nueva ley le empuja un liitle a lejos. No a muchas personas ser án apenas capaz de dejar de fumar porque alguien los dice también. ¿Tomará tiempo para ellos d...   \n",
       "4    Hola, Me llamo Brittnay! yo tengo dos personas famosa! Mi favorita es Tyra Banks. Ella es la primera negrea modelo en todo el mundo.Ella es muy bonita y tienes un grande crozon. Ella ayuda mucho con el ninos con no padres . Mucho estrellas ayuda nada, pero no Tyra. Ella das su corzon todo! Tyra tambien ayuda mi! Tyra das mi familia 10,000 dolares para un nuevo casa. Mi familia nunca tiene dinero. Mi papa y mi mama tienes muchos problemas con uds.salud! Mi papa no tienes manos y mi mama no tienes tambien. Yo trababjo much para mi familia. Nosotros no tengo carro y yo nunca tiene un casa! Yo...   \n",
       "..                                                                                                                                                                                                                                                                                                                                                                                                                                                                                                                                                                                                                       ...   \n",
       "295  La película sin sonido en negra y blanca se trata de Charles Chaplin. En ella encuentra a un bebé en la calle. Primero piensa que se trata del bebé de una mujer que ha entrado una casa cercana, pero al poner el bebé en el cochecito, la mujer sale del edificio y dice que no es su bebé. Él intenta poner el bebé en su lugar original pero un policía le ve y por eso levanta al bebé otra vez y se va. Ve a un hombre y decide darle el bebé sin decir algo y salir corriendo. El hombre está sorprendido y sigue a Charles. No puede encontrarle pero ve un cochecito enfrente de una tienda. Pone el bebé e...   \n",
       "296  Mi futuro. El qué hacer profesional. La verdad es que ni tengo idea. ¿Por qué usar fuentes adicionales o hacer investigaciones para una composición que no tiene una respuesta definida? Mis planes para el futuro me suena ya un poco a esas composiciones de primaria, cuando el mundo era todavía una ostra -si es que funciona esa frase en español- y tus esperanzas y sueños eran igualmente ilimitadas. Ahora, ya en mi tercera década de vida, me siento como si fuera uno de esos transeúntes ambulantes que vagabundea por las calles, ebrio, sin dirección fija, perdido. En realidad, mis planes para el...   \n",
       "297  Rana, ¿dónde estás?  Hoy Nico ha estado en un parque y encontró una rana.  La ha traído a casa y la mete en un bote.  ¡Pero qué bonito canta!  Muy contento, el niño se va a dormir pero se le olvida ponerle una tapa al bote.  Al día siguiente, cuando se despertó, la rana ya se había ido.  Vuelve al parque dónde la encontró el día anterior y la busca en todas partes pero no la encuentra.  Mira, hay una roca grande.  ¡Tal vez de allí arriba se ve mejor y hasta lejos!  Se sube y se apoya con unas ramas para no caerse.  Pero no, ¡no era un árbol sino un ciervo que estaba echando una siesta!  As...   \n",
       "298  En la primera escena, Charlie Chaplin está fumando un cigarrillo. De repente algunos ladrillos le caen sobre la cabeza y le apagan el cigarrillo. Aun los ladrillos, él se enciende otro cigarrillo. Mientras está fumando, oye un llanto de un niño. De hecho, cerca de él hay un niño, Charlie lo toma en sus brazos y cuando ve una señora con un cochecito en el cual hay otro niño decide de dejarlo allí, porque piensa que es suyo. Pero la señora se enfada, porque el niño no es suyo. Encones Charlie lo toma y lo deja donde lo ha encontrado. Pero en aquel exacto momento llega un oficial que piensa q...   \n",
       "299                 Charlie Chaplin estaba paseando por la calle cuándo encontró un bebé en la basura.Cogió el bebé pero lo devolvió a la basura, cuándo  de repente apareció um oficial de la policía. Luego cogió el bebé y lo dió a un hombre que andaba por la calle. Pero él  hombre puso puso él bebé  en un carrito de bebé dónde estaba una chica.Charlie Chaplin pasó por él bebé y lo ignoró, seguió caminando y una mujer le dió com el paraaguas en la cabeza y luego Charlie volvió a coger él bebé.Con él bebé en los brazos se sentó en la esquina  y de repente, encontró un billete en el medio de la ropa.   \n",
       "\n",
       "    level prediction predictionSencences  \\\n",
       "0      A1         A2                  A1   \n",
       "1      A1         A2                  A1   \n",
       "2      A1         A2                  A2   \n",
       "3      A1         B2                  B2   \n",
       "4      A1         A2                  A2   \n",
       "..    ...        ...                 ...   \n",
       "295    C2         C1                  C1   \n",
       "296    C2         B2                  B2   \n",
       "297    C2         B1                  B1   \n",
       "298    C2         B2                  C1   \n",
       "299    C2         B1                  B1   \n",
       "\n",
       "                                                                           predictionIndSencences  \n",
       "0                                                                        [B1, B2, A1, A1, A2, A1]  \n",
       "1                                                    [A2, B2, A1, A1, B1, A1, A2, A2, A1, A1, A1]  \n",
       "2                                                            [A2, A1, A2, A1, A2, A2, A2, A1, A1]  \n",
       "3                                    [B2, B2, B2, B2, A1, B2, B2, B2, B2, B2, B2, B2, B2, B2, A1]  \n",
       "4        [A2, A2, A1, A2, A2, A2, B1, A1, A1, A1, A2, A1, A2, A2, A2, A2, A2, B1, A2, B1, B1, A2]  \n",
       "..                                                                                            ...  \n",
       "295                                          [C1, C1, C1, C1, C1, C1, B1, B1, C1, B1, B1, C1, A1]  \n",
       "296  [B2, B2, B1, B2, C1, B2, B2, B2, B1, C1, B2, B2, B2, A1, B1, C1, B1, B2, C1, B2, B1, C1, C1]  \n",
       "297                                  [B1, A1, C1, B1, B1, B1, C1, B1, C1, B1, B1, B1, C1, C1, A1]  \n",
       "298                              [B2, B2, B2, B2, C1, C1, C1, C1, C1, C1, C1, C1, C1, C1, C1, A1]  \n",
       "299                                                                  [C1, B1, B1, C1, B1, B1, A1]  \n",
       "\n",
       "[300 rows x 7 columns]"
      ]
     },
     "execution_count": 34,
     "metadata": {},
     "output_type": "execute_result"
    }
   ],
   "source": [
    "dfCEDEL"
   ]
  },
  {
   "cell_type": "code",
   "execution_count": 35,
   "metadata": {},
   "outputs": [
    {
     "data": {
      "text/plain": [
       "[{'label': 'B',\n",
       "  'score': 0.998668909072876,\n",
       "  'class_index': 2,\n",
       "  'class_labels': ['A1', 'A2', 'B1', 'B2', 'C1'],\n",
       "  'probs': [9.217358638125006e-06,\n",
       "   0.0005502514541149139,\n",
       "   0.998668909072876,\n",
       "   0.0003599120245780796,\n",
       "   0.0004118206852581352]}]"
      ]
     },
     "execution_count": 35,
     "metadata": {},
     "output_type": "execute_result"
    }
   ],
   "source": [
    "learnXLMRoberta.predict('Chaplin estaba paseando por la calle')"
   ]
  },
  {
   "cell_type": "code",
   "execution_count": 36,
   "metadata": {},
   "outputs": [
    {
     "data": {
      "text/plain": [
       "[{'label': 'B',\n",
       "  'score': 0.9942282438278198,\n",
       "  'class_index': 2,\n",
       "  'class_labels': ['A1', 'A2', 'B1', 'B2', 'C1'],\n",
       "  'probs': [1.0992446732416283e-05,\n",
       "   0.003311550710350275,\n",
       "   0.9942282438278198,\n",
       "   0.0015082433819770813,\n",
       "   0.0009409052436240017]}]"
      ]
     },
     "execution_count": 36,
     "metadata": {},
     "output_type": "execute_result"
    }
   ],
   "source": [
    "learnXLMRoberta.predict('Chaplin estaba paseando para la calle')"
   ]
  },
  {
   "cell_type": "code",
   "execution_count": 42,
   "metadata": {},
   "outputs": [
    {
     "data": {
      "text/plain": [
       "[{'label': 'A',\n",
       "  'score': 0.9992579817771912,\n",
       "  'class_index': 0,\n",
       "  'class_labels': ['A1', 'A2', 'B1', 'B2', 'C1'],\n",
       "  'probs': [0.9992579817771912,\n",
       "   0.0006185397505760193,\n",
       "   6.311406468739733e-05,\n",
       "   4.677825199905783e-05,\n",
       "   1.3514949387172237e-05]}]"
      ]
     },
     "execution_count": 42,
     "metadata": {},
     "output_type": "execute_result"
    }
   ],
   "source": [
    "learnXLMRoberta.predict('Hoy soy aburrida')"
   ]
  },
  {
   "cell_type": "code",
   "execution_count": null,
   "metadata": {},
   "outputs": [],
   "source": []
  }
 ],
 "metadata": {
  "kernelspec": {
   "display_name": "Python 3",
   "language": "python",
   "name": "python3"
  },
  "language_info": {
   "codemirror_mode": {
    "name": "ipython",
    "version": 3
   },
   "file_extension": ".py",
   "mimetype": "text/x-python",
   "name": "python",
   "nbconvert_exporter": "python",
   "pygments_lexer": "ipython3",
   "version": "3.6.7"
  }
 },
 "nbformat": 4,
 "nbformat_minor": 4
}
